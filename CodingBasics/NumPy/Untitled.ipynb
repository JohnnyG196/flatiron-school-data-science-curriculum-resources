{
 "cells": [
  {
   "cell_type": "code",
   "execution_count": 4,
   "metadata": {},
   "outputs": [
    {
     "name": "stdout",
     "output_type": "stream",
     "text": [
      "[0. 0. 0. 5. 0. 0. 0. 0. 0. 0.]\n"
     ]
    }
   ],
   "source": [
    "#Tasks\n",
    "#1.Create an array of ten zeros but the fourth value which is 5\n",
    "#TODO\n",
    "\n",
    "\n",
    "import numpy as np\n",
    "array=np.zeros(10)\n",
    "almost_all_zeros_array =np.zeros(10)\n",
    "almost_all_zeros_array[3] =5\n",
    "print(almost_all_zeros_array)"
   ]
  },
  {
   "cell_type": "code",
   "execution_count": 6,
   "metadata": {},
   "outputs": [
    {
     "name": "stdout",
     "output_type": "stream",
     "text": [
      "[4 1 0 5 1 3 9 2 1 6]\n"
     ]
    }
   ],
   "source": [
    "#2.Create another array of ten random values\n",
    "#TODO\n",
    "\n",
    "random_array = np.random.randint(10, size=10)\n",
    "print(random_array)"
   ]
  },
  {
   "cell_type": "code",
   "execution_count": 7,
   "metadata": {},
   "outputs": [
    {
     "name": "stdout",
     "output_type": "stream",
     "text": [
      "[ 4.  1.  0. 10.  1.  3.  9.  2.  1.  6.]\n"
     ]
    }
   ],
   "source": [
    "#3.Combine the values mathematically (addition, multiplication, etc.) to make a new array of ten values\n",
    "#TODO\n",
    "\n",
    "new_array = random_array + almost_all_zeros_array\n",
    "print(new_array)\n"
   ]
  },
  {
   "cell_type": "code",
   "execution_count": 11,
   "metadata": {},
   "outputs": [
    {
     "name": "stdout",
     "output_type": "stream",
     "text": [
      "[['January' 'February' 'March' 'April']\n",
      " ['May' 'June' 'July' 'August']\n",
      " ['September' 'October' 'November' 'December']]\n",
      "June\n"
     ]
    }
   ],
   "source": [
    "\n",
    "#4.[CHALLENGE!] Create a 3D array where the values represent the number of days in the month and each row represents the following months\n",
    "#1st row: Jan-Apr\n",
    "#2nd row: May-Aug\n",
    "#3rd row: Sept-Dec\n",
    "\n",
    "#TODO\n",
    "import calendar\n",
    "\n",
    "month_array = np.array([(calendar.month_name[1:5]), (calendar.month_name[5:9]), calendar.month_name[9:13]])\n",
    "print(month_array)\n",
    "print(month_array[1,1])"
   ]
  },
  {
   "cell_type": "code",
   "execution_count": null,
   "metadata": {},
   "outputs": [],
   "source": []
  },
  {
   "cell_type": "code",
   "execution_count": null,
   "metadata": {},
   "outputs": [],
   "source": []
  }
 ],
 "metadata": {
  "kernelspec": {
   "display_name": "Python 3",
   "language": "python",
   "name": "python3"
  },
  "language_info": {
   "codemirror_mode": {
    "name": "ipython",
    "version": 3
   },
   "file_extension": ".py",
   "mimetype": "text/x-python",
   "name": "python",
   "nbconvert_exporter": "python",
   "pygments_lexer": "ipython3",
   "version": "3.6.9"
  }
 },
 "nbformat": 4,
 "nbformat_minor": 2
}
